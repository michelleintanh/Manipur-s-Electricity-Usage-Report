{
 "cells": [
  {
   "cell_type": "markdown",
   "id": "3d8958bb",
   "metadata": {},
   "source": [
    "# Electricity Usage Report of Manipur on a Monthly and Annual Basis\n",
    "### By: Michelle Intan Handa"
   ]
  },
  {
   "cell_type": "markdown",
   "id": "c0b44d58",
   "metadata": {},
   "source": [
    "In this report, I will make an electricity report of **Manipur** on a monthly and annual basis. I will also analyze whether Manipur's electricity usage is influenced by some of the surrounding cities."
   ]
  },
  {
   "cell_type": "code",
   "execution_count": 1,
   "id": "4d45c6e7",
   "metadata": {},
   "outputs": [],
   "source": [
    "import numpy as np\n",
    "import pandas as pd\n",
    "import matplotlib.pyplot as plt"
   ]
  },
  {
   "cell_type": "markdown",
   "id": "5a3e53bc",
   "metadata": {},
   "source": [
    "### Data Preprocessing"
   ]
  },
  {
   "cell_type": "code",
   "execution_count": 2,
   "id": "744677ba",
   "metadata": {
    "scrolled": true
   },
   "outputs": [
    {
     "data": {
      "text/html": [
       "<div>\n",
       "<style scoped>\n",
       "    .dataframe tbody tr th:only-of-type {\n",
       "        vertical-align: middle;\n",
       "    }\n",
       "\n",
       "    .dataframe tbody tr th {\n",
       "        vertical-align: top;\n",
       "    }\n",
       "\n",
       "    .dataframe thead th {\n",
       "        text-align: right;\n",
       "    }\n",
       "</style>\n",
       "<table border=\"1\" class=\"dataframe\">\n",
       "  <thead>\n",
       "    <tr style=\"text-align: right;\">\n",
       "      <th></th>\n",
       "      <th>States</th>\n",
       "      <th>Regions</th>\n",
       "      <th>latitude</th>\n",
       "      <th>longitude</th>\n",
       "      <th>Dates</th>\n",
       "      <th>Usage</th>\n",
       "    </tr>\n",
       "  </thead>\n",
       "  <tbody>\n",
       "    <tr>\n",
       "      <th>0</th>\n",
       "      <td>Punjab</td>\n",
       "      <td>NR</td>\n",
       "      <td>31.519974</td>\n",
       "      <td>75.980003</td>\n",
       "      <td>02/01/2019 00:00:00</td>\n",
       "      <td>119.9</td>\n",
       "    </tr>\n",
       "    <tr>\n",
       "      <th>1</th>\n",
       "      <td>Haryana</td>\n",
       "      <td>NR</td>\n",
       "      <td>28.450006</td>\n",
       "      <td>77.019991</td>\n",
       "      <td>02/01/2019 00:00:00</td>\n",
       "      <td>130.3</td>\n",
       "    </tr>\n",
       "    <tr>\n",
       "      <th>2</th>\n",
       "      <td>Rajasthan</td>\n",
       "      <td>NR</td>\n",
       "      <td>26.449999</td>\n",
       "      <td>74.639981</td>\n",
       "      <td>02/01/2019 00:00:00</td>\n",
       "      <td>234.1</td>\n",
       "    </tr>\n",
       "    <tr>\n",
       "      <th>3</th>\n",
       "      <td>Delhi</td>\n",
       "      <td>NR</td>\n",
       "      <td>28.669993</td>\n",
       "      <td>77.230004</td>\n",
       "      <td>02/01/2019 00:00:00</td>\n",
       "      <td>85.8</td>\n",
       "    </tr>\n",
       "    <tr>\n",
       "      <th>4</th>\n",
       "      <td>UP</td>\n",
       "      <td>NR</td>\n",
       "      <td>27.599981</td>\n",
       "      <td>78.050006</td>\n",
       "      <td>02/01/2019 00:00:00</td>\n",
       "      <td>313.9</td>\n",
       "    </tr>\n",
       "  </tbody>\n",
       "</table>\n",
       "</div>"
      ],
      "text/plain": [
       "      States Regions   latitude  longitude                Dates  Usage\n",
       "0     Punjab      NR  31.519974  75.980003  02/01/2019 00:00:00  119.9\n",
       "1    Haryana      NR  28.450006  77.019991  02/01/2019 00:00:00  130.3\n",
       "2  Rajasthan      NR  26.449999  74.639981  02/01/2019 00:00:00  234.1\n",
       "3      Delhi      NR  28.669993  77.230004  02/01/2019 00:00:00   85.8\n",
       "4         UP      NR  27.599981  78.050006  02/01/2019 00:00:00  313.9"
      ]
     },
     "execution_count": 2,
     "metadata": {},
     "output_type": "execute_result"
    }
   ],
   "source": [
    "#import data\n",
    "city = pd.read_csv(\"cities_electricity_usage.csv\")\n",
    "city.head()"
   ]
  },
  {
   "cell_type": "code",
   "execution_count": 3,
   "id": "fdc7a80e",
   "metadata": {
    "scrolled": true
   },
   "outputs": [
    {
     "data": {
      "text/plain": [
       "States        object\n",
       "Regions       object\n",
       "latitude     float64\n",
       "longitude    float64\n",
       "Dates         object\n",
       "Usage        float64\n",
       "dtype: object"
      ]
     },
     "execution_count": 3,
     "metadata": {},
     "output_type": "execute_result"
    }
   ],
   "source": [
    "#check datatypes\n",
    "city.dtypes"
   ]
  },
  {
   "cell_type": "markdown",
   "id": "040c8b68",
   "metadata": {},
   "source": [
    "`Dates` datatype is still object, I need to change it into datetime."
   ]
  },
  {
   "cell_type": "code",
   "execution_count": 4,
   "id": "3a79cfa6",
   "metadata": {
    "scrolled": true
   },
   "outputs": [
    {
     "data": {
      "text/plain": [
       "array(['NR', 'WR', 'SR', 'ER', 'NER'], dtype=object)"
      ]
     },
     "execution_count": 4,
     "metadata": {},
     "output_type": "execute_result"
    }
   ],
   "source": [
    "#check unique value\n",
    "city.Regions.unique()"
   ]
  },
  {
   "cell_type": "markdown",
   "id": "62defda0",
   "metadata": {},
   "source": [
    "Because `Regions` only consists of 5 unique value, I will change the datatype into category."
   ]
  },
  {
   "cell_type": "code",
   "execution_count": 5,
   "id": "5b83a099",
   "metadata": {
    "scrolled": false
   },
   "outputs": [
    {
     "data": {
      "text/plain": [
       "States               object\n",
       "Regions            category\n",
       "latitude            float64\n",
       "longitude           float64\n",
       "Dates        datetime64[ns]\n",
       "Usage               float64\n",
       "dtype: object"
      ]
     },
     "execution_count": 5,
     "metadata": {},
     "output_type": "execute_result"
    }
   ],
   "source": [
    "#change datatype\n",
    "city['Dates'] = city['Dates'].astype('datetime64')\n",
    "city['Regions'] = city['Regions'].astype('category')\n",
    "city.dtypes"
   ]
  },
  {
   "cell_type": "markdown",
   "id": "54d2ecaa",
   "metadata": {},
   "source": [
    "For further analysis, I am going to extract the month and year component of `Dates`."
   ]
  },
  {
   "cell_type": "code",
   "execution_count": 6,
   "id": "86a3dcbe",
   "metadata": {},
   "outputs": [
    {
     "data": {
      "text/html": [
       "<div>\n",
       "<style scoped>\n",
       "    .dataframe tbody tr th:only-of-type {\n",
       "        vertical-align: middle;\n",
       "    }\n",
       "\n",
       "    .dataframe tbody tr th {\n",
       "        vertical-align: top;\n",
       "    }\n",
       "\n",
       "    .dataframe thead th {\n",
       "        text-align: right;\n",
       "    }\n",
       "</style>\n",
       "<table border=\"1\" class=\"dataframe\">\n",
       "  <thead>\n",
       "    <tr style=\"text-align: right;\">\n",
       "      <th></th>\n",
       "      <th>States</th>\n",
       "      <th>Regions</th>\n",
       "      <th>latitude</th>\n",
       "      <th>longitude</th>\n",
       "      <th>Dates</th>\n",
       "      <th>Usage</th>\n",
       "      <th>year</th>\n",
       "      <th>month</th>\n",
       "      <th>monthz</th>\n",
       "      <th>day</th>\n",
       "    </tr>\n",
       "  </thead>\n",
       "  <tbody>\n",
       "    <tr>\n",
       "      <th>0</th>\n",
       "      <td>Punjab</td>\n",
       "      <td>NR</td>\n",
       "      <td>31.519974</td>\n",
       "      <td>75.980003</td>\n",
       "      <td>2019-02-01</td>\n",
       "      <td>119.9</td>\n",
       "      <td>2019</td>\n",
       "      <td>2019-02</td>\n",
       "      <td>2</td>\n",
       "      <td>1</td>\n",
       "    </tr>\n",
       "    <tr>\n",
       "      <th>1</th>\n",
       "      <td>Haryana</td>\n",
       "      <td>NR</td>\n",
       "      <td>28.450006</td>\n",
       "      <td>77.019991</td>\n",
       "      <td>2019-02-01</td>\n",
       "      <td>130.3</td>\n",
       "      <td>2019</td>\n",
       "      <td>2019-02</td>\n",
       "      <td>2</td>\n",
       "      <td>1</td>\n",
       "    </tr>\n",
       "    <tr>\n",
       "      <th>2</th>\n",
       "      <td>Rajasthan</td>\n",
       "      <td>NR</td>\n",
       "      <td>26.449999</td>\n",
       "      <td>74.639981</td>\n",
       "      <td>2019-02-01</td>\n",
       "      <td>234.1</td>\n",
       "      <td>2019</td>\n",
       "      <td>2019-02</td>\n",
       "      <td>2</td>\n",
       "      <td>1</td>\n",
       "    </tr>\n",
       "    <tr>\n",
       "      <th>3</th>\n",
       "      <td>Delhi</td>\n",
       "      <td>NR</td>\n",
       "      <td>28.669993</td>\n",
       "      <td>77.230004</td>\n",
       "      <td>2019-02-01</td>\n",
       "      <td>85.8</td>\n",
       "      <td>2019</td>\n",
       "      <td>2019-02</td>\n",
       "      <td>2</td>\n",
       "      <td>1</td>\n",
       "    </tr>\n",
       "    <tr>\n",
       "      <th>4</th>\n",
       "      <td>UP</td>\n",
       "      <td>NR</td>\n",
       "      <td>27.599981</td>\n",
       "      <td>78.050006</td>\n",
       "      <td>2019-02-01</td>\n",
       "      <td>313.9</td>\n",
       "      <td>2019</td>\n",
       "      <td>2019-02</td>\n",
       "      <td>2</td>\n",
       "      <td>1</td>\n",
       "    </tr>\n",
       "  </tbody>\n",
       "</table>\n",
       "</div>"
      ],
      "text/plain": [
       "      States Regions   latitude  longitude      Dates  Usage  year    month  \\\n",
       "0     Punjab      NR  31.519974  75.980003 2019-02-01  119.9  2019  2019-02   \n",
       "1    Haryana      NR  28.450006  77.019991 2019-02-01  130.3  2019  2019-02   \n",
       "2  Rajasthan      NR  26.449999  74.639981 2019-02-01  234.1  2019  2019-02   \n",
       "3      Delhi      NR  28.669993  77.230004 2019-02-01   85.8  2019  2019-02   \n",
       "4         UP      NR  27.599981  78.050006 2019-02-01  313.9  2019  2019-02   \n",
       "\n",
       "   monthz  day  \n",
       "0       2    1  \n",
       "1       2    1  \n",
       "2       2    1  \n",
       "3       2    1  \n",
       "4       2    1  "
      ]
     },
     "execution_count": 6,
     "metadata": {},
     "output_type": "execute_result"
    }
   ],
   "source": [
    "#extract month and year\n",
    "city ['year'] = city['Dates'].dt.year\n",
    "city['month'] = city['Dates'].dt.to_period('M')\n",
    "city['monthz'] = city['Dates'].dt.month\n",
    "city['day'] = city['Dates'].dt.day\n",
    "city.head()"
   ]
  },
  {
   "cell_type": "markdown",
   "id": "097f3588",
   "metadata": {},
   "source": [
    "Because I want to analyze Manipur, I am going to filter the data."
   ]
  },
  {
   "cell_type": "code",
   "execution_count": 7,
   "id": "15487761",
   "metadata": {
    "scrolled": true
   },
   "outputs": [
    {
     "data": {
      "text/html": [
       "<div>\n",
       "<style scoped>\n",
       "    .dataframe tbody tr th:only-of-type {\n",
       "        vertical-align: middle;\n",
       "    }\n",
       "\n",
       "    .dataframe tbody tr th {\n",
       "        vertical-align: top;\n",
       "    }\n",
       "\n",
       "    .dataframe thead th {\n",
       "        text-align: right;\n",
       "    }\n",
       "</style>\n",
       "<table border=\"1\" class=\"dataframe\">\n",
       "  <thead>\n",
       "    <tr style=\"text-align: right;\">\n",
       "      <th></th>\n",
       "      <th>States</th>\n",
       "      <th>Regions</th>\n",
       "      <th>latitude</th>\n",
       "      <th>longitude</th>\n",
       "      <th>Dates</th>\n",
       "      <th>Usage</th>\n",
       "      <th>year</th>\n",
       "      <th>month</th>\n",
       "      <th>monthz</th>\n",
       "      <th>day</th>\n",
       "    </tr>\n",
       "  </thead>\n",
       "  <tbody>\n",
       "    <tr>\n",
       "      <th>28</th>\n",
       "      <td>Manipur</td>\n",
       "      <td>NER</td>\n",
       "      <td>24.799971</td>\n",
       "      <td>93.950017</td>\n",
       "      <td>2019-02-01</td>\n",
       "      <td>2.7</td>\n",
       "      <td>2019</td>\n",
       "      <td>2019-02</td>\n",
       "      <td>2</td>\n",
       "      <td>1</td>\n",
       "    </tr>\n",
       "    <tr>\n",
       "      <th>61</th>\n",
       "      <td>Manipur</td>\n",
       "      <td>NER</td>\n",
       "      <td>24.799971</td>\n",
       "      <td>93.950017</td>\n",
       "      <td>2019-03-01</td>\n",
       "      <td>2.4</td>\n",
       "      <td>2019</td>\n",
       "      <td>2019-03</td>\n",
       "      <td>3</td>\n",
       "      <td>1</td>\n",
       "    </tr>\n",
       "    <tr>\n",
       "      <th>94</th>\n",
       "      <td>Manipur</td>\n",
       "      <td>NER</td>\n",
       "      <td>24.799971</td>\n",
       "      <td>93.950017</td>\n",
       "      <td>2019-04-01</td>\n",
       "      <td>2.4</td>\n",
       "      <td>2019</td>\n",
       "      <td>2019-04</td>\n",
       "      <td>4</td>\n",
       "      <td>1</td>\n",
       "    </tr>\n",
       "    <tr>\n",
       "      <th>127</th>\n",
       "      <td>Manipur</td>\n",
       "      <td>NER</td>\n",
       "      <td>24.799971</td>\n",
       "      <td>93.950017</td>\n",
       "      <td>2019-05-01</td>\n",
       "      <td>2.7</td>\n",
       "      <td>2019</td>\n",
       "      <td>2019-05</td>\n",
       "      <td>5</td>\n",
       "      <td>1</td>\n",
       "    </tr>\n",
       "    <tr>\n",
       "      <th>160</th>\n",
       "      <td>Manipur</td>\n",
       "      <td>NER</td>\n",
       "      <td>24.799971</td>\n",
       "      <td>93.950017</td>\n",
       "      <td>2019-06-01</td>\n",
       "      <td>2.7</td>\n",
       "      <td>2019</td>\n",
       "      <td>2019-06</td>\n",
       "      <td>6</td>\n",
       "      <td>1</td>\n",
       "    </tr>\n",
       "  </tbody>\n",
       "</table>\n",
       "</div>"
      ],
      "text/plain": [
       "      States Regions   latitude  longitude      Dates  Usage  year    month  \\\n",
       "28   Manipur     NER  24.799971  93.950017 2019-02-01    2.7  2019  2019-02   \n",
       "61   Manipur     NER  24.799971  93.950017 2019-03-01    2.4  2019  2019-03   \n",
       "94   Manipur     NER  24.799971  93.950017 2019-04-01    2.4  2019  2019-04   \n",
       "127  Manipur     NER  24.799971  93.950017 2019-05-01    2.7  2019  2019-05   \n",
       "160  Manipur     NER  24.799971  93.950017 2019-06-01    2.7  2019  2019-06   \n",
       "\n",
       "     monthz  day  \n",
       "28        2    1  \n",
       "61        3    1  \n",
       "94        4    1  \n",
       "127       5    1  \n",
       "160       6    1  "
      ]
     },
     "execution_count": 7,
     "metadata": {},
     "output_type": "execute_result"
    }
   ],
   "source": [
    "#make a new data frame consisting only Manipur\n",
    "manipur = city[city.States == 'Manipur']\n",
    "manipur.head()"
   ]
  },
  {
   "cell_type": "markdown",
   "id": "64593fad",
   "metadata": {},
   "source": [
    "### Manipur's Annual Electricity Usage Report"
   ]
  },
  {
   "cell_type": "code",
   "execution_count": 8,
   "id": "0595a402",
   "metadata": {},
   "outputs": [
    {
     "data": {
      "text/html": [
       "<div>\n",
       "<style scoped>\n",
       "    .dataframe tbody tr th:only-of-type {\n",
       "        vertical-align: middle;\n",
       "    }\n",
       "\n",
       "    .dataframe tbody tr th {\n",
       "        vertical-align: top;\n",
       "    }\n",
       "\n",
       "    .dataframe thead th {\n",
       "        text-align: right;\n",
       "    }\n",
       "</style>\n",
       "<table border=\"1\" class=\"dataframe\">\n",
       "  <thead>\n",
       "    <tr style=\"text-align: right;\">\n",
       "      <th></th>\n",
       "      <th>Dates</th>\n",
       "      <th>Usage</th>\n",
       "      <th>year</th>\n",
       "      <th>month</th>\n",
       "      <th>monthz</th>\n",
       "      <th>day</th>\n",
       "    </tr>\n",
       "  </thead>\n",
       "  <tbody>\n",
       "    <tr>\n",
       "      <th>0</th>\n",
       "      <td>2019-02-01</td>\n",
       "      <td>2.7</td>\n",
       "      <td>2019</td>\n",
       "      <td>2019-02</td>\n",
       "      <td>2</td>\n",
       "      <td>1</td>\n",
       "    </tr>\n",
       "    <tr>\n",
       "      <th>1</th>\n",
       "      <td>2019-03-01</td>\n",
       "      <td>2.4</td>\n",
       "      <td>2019</td>\n",
       "      <td>2019-03</td>\n",
       "      <td>3</td>\n",
       "      <td>1</td>\n",
       "    </tr>\n",
       "    <tr>\n",
       "      <th>2</th>\n",
       "      <td>2019-04-01</td>\n",
       "      <td>2.4</td>\n",
       "      <td>2019</td>\n",
       "      <td>2019-04</td>\n",
       "      <td>4</td>\n",
       "      <td>1</td>\n",
       "    </tr>\n",
       "    <tr>\n",
       "      <th>3</th>\n",
       "      <td>2019-05-01</td>\n",
       "      <td>2.7</td>\n",
       "      <td>2019</td>\n",
       "      <td>2019-05</td>\n",
       "      <td>5</td>\n",
       "      <td>1</td>\n",
       "    </tr>\n",
       "    <tr>\n",
       "      <th>4</th>\n",
       "      <td>2019-06-01</td>\n",
       "      <td>2.7</td>\n",
       "      <td>2019</td>\n",
       "      <td>2019-06</td>\n",
       "      <td>6</td>\n",
       "      <td>1</td>\n",
       "    </tr>\n",
       "    <tr>\n",
       "      <th>...</th>\n",
       "      <td>...</td>\n",
       "      <td>...</td>\n",
       "      <td>...</td>\n",
       "      <td>...</td>\n",
       "      <td>...</td>\n",
       "      <td>...</td>\n",
       "    </tr>\n",
       "    <tr>\n",
       "      <th>498</th>\n",
       "      <td>2020-01-12</td>\n",
       "      <td>2.1</td>\n",
       "      <td>2020</td>\n",
       "      <td>2020-01</td>\n",
       "      <td>1</td>\n",
       "      <td>12</td>\n",
       "    </tr>\n",
       "    <tr>\n",
       "      <th>499</th>\n",
       "      <td>2020-02-12</td>\n",
       "      <td>2.4</td>\n",
       "      <td>2020</td>\n",
       "      <td>2020-02</td>\n",
       "      <td>2</td>\n",
       "      <td>12</td>\n",
       "    </tr>\n",
       "    <tr>\n",
       "      <th>500</th>\n",
       "      <td>2020-03-12</td>\n",
       "      <td>2.3</td>\n",
       "      <td>2020</td>\n",
       "      <td>2020-03</td>\n",
       "      <td>3</td>\n",
       "      <td>12</td>\n",
       "    </tr>\n",
       "    <tr>\n",
       "      <th>501</th>\n",
       "      <td>2020-04-12</td>\n",
       "      <td>2.5</td>\n",
       "      <td>2020</td>\n",
       "      <td>2020-04</td>\n",
       "      <td>4</td>\n",
       "      <td>12</td>\n",
       "    </tr>\n",
       "    <tr>\n",
       "      <th>502</th>\n",
       "      <td>2020-05-12</td>\n",
       "      <td>2.5</td>\n",
       "      <td>2020</td>\n",
       "      <td>2020-05</td>\n",
       "      <td>5</td>\n",
       "      <td>12</td>\n",
       "    </tr>\n",
       "  </tbody>\n",
       "</table>\n",
       "<p>503 rows × 6 columns</p>\n",
       "</div>"
      ],
      "text/plain": [
       "         Dates  Usage  year    month  monthz  day\n",
       "0   2019-02-01    2.7  2019  2019-02       2    1\n",
       "1   2019-03-01    2.4  2019  2019-03       3    1\n",
       "2   2019-04-01    2.4  2019  2019-04       4    1\n",
       "3   2019-05-01    2.7  2019  2019-05       5    1\n",
       "4   2019-06-01    2.7  2019  2019-06       6    1\n",
       "..         ...    ...   ...      ...     ...  ...\n",
       "498 2020-01-12    2.1  2020  2020-01       1   12\n",
       "499 2020-02-12    2.4  2020  2020-02       2   12\n",
       "500 2020-03-12    2.3  2020  2020-03       3   12\n",
       "501 2020-04-12    2.5  2020  2020-04       4   12\n",
       "502 2020-05-12    2.5  2020  2020-05       5   12\n",
       "\n",
       "[503 rows x 6 columns]"
      ]
     },
     "execution_count": 8,
     "metadata": {},
     "output_type": "execute_result"
    }
   ],
   "source": [
    "#annually Manipur electicity usage report \n",
    "manipur_usage = manipur.drop(['States', 'Regions', 'latitude', 'longitude'], axis = 1).reset_index()\n",
    "manipur_usage_index = manipur_usage.drop('index', axis = 1)\n",
    "manipur_usage_index"
   ]
  },
  {
   "cell_type": "code",
   "execution_count": 9,
   "id": "0f416802",
   "metadata": {
    "scrolled": true
   },
   "outputs": [
    {
     "data": {
      "text/html": [
       "<div>\n",
       "<style scoped>\n",
       "    .dataframe tbody tr th:only-of-type {\n",
       "        vertical-align: middle;\n",
       "    }\n",
       "\n",
       "    .dataframe tbody tr th {\n",
       "        vertical-align: top;\n",
       "    }\n",
       "\n",
       "    .dataframe thead th {\n",
       "        text-align: right;\n",
       "    }\n",
       "</style>\n",
       "<table border=\"1\" class=\"dataframe\">\n",
       "  <thead>\n",
       "    <tr style=\"text-align: right;\">\n",
       "      <th></th>\n",
       "      <th>Dates</th>\n",
       "      <th>Usage</th>\n",
       "      <th>year</th>\n",
       "      <th>month</th>\n",
       "      <th>monthz</th>\n",
       "      <th>day</th>\n",
       "    </tr>\n",
       "  </thead>\n",
       "  <tbody>\n",
       "    <tr>\n",
       "      <th>0</th>\n",
       "      <td>2019-02-01</td>\n",
       "      <td>2.7</td>\n",
       "      <td>2019</td>\n",
       "      <td>2019-02</td>\n",
       "      <td>2</td>\n",
       "      <td>1</td>\n",
       "    </tr>\n",
       "    <tr>\n",
       "      <th>1</th>\n",
       "      <td>2019-03-01</td>\n",
       "      <td>2.4</td>\n",
       "      <td>2019</td>\n",
       "      <td>2019-03</td>\n",
       "      <td>3</td>\n",
       "      <td>1</td>\n",
       "    </tr>\n",
       "    <tr>\n",
       "      <th>2</th>\n",
       "      <td>2019-04-01</td>\n",
       "      <td>2.4</td>\n",
       "      <td>2019</td>\n",
       "      <td>2019-04</td>\n",
       "      <td>4</td>\n",
       "      <td>1</td>\n",
       "    </tr>\n",
       "    <tr>\n",
       "      <th>3</th>\n",
       "      <td>2019-05-01</td>\n",
       "      <td>2.7</td>\n",
       "      <td>2019</td>\n",
       "      <td>2019-05</td>\n",
       "      <td>5</td>\n",
       "      <td>1</td>\n",
       "    </tr>\n",
       "    <tr>\n",
       "      <th>4</th>\n",
       "      <td>2019-06-01</td>\n",
       "      <td>2.7</td>\n",
       "      <td>2019</td>\n",
       "      <td>2019-06</td>\n",
       "      <td>6</td>\n",
       "      <td>1</td>\n",
       "    </tr>\n",
       "    <tr>\n",
       "      <th>...</th>\n",
       "      <td>...</td>\n",
       "      <td>...</td>\n",
       "      <td>...</td>\n",
       "      <td>...</td>\n",
       "      <td>...</td>\n",
       "      <td>...</td>\n",
       "    </tr>\n",
       "    <tr>\n",
       "      <th>354</th>\n",
       "      <td>2019-12-27</td>\n",
       "      <td>2.6</td>\n",
       "      <td>2019</td>\n",
       "      <td>2019-12</td>\n",
       "      <td>12</td>\n",
       "      <td>27</td>\n",
       "    </tr>\n",
       "    <tr>\n",
       "      <th>355</th>\n",
       "      <td>2019-12-28</td>\n",
       "      <td>2.5</td>\n",
       "      <td>2019</td>\n",
       "      <td>2019-12</td>\n",
       "      <td>12</td>\n",
       "      <td>28</td>\n",
       "    </tr>\n",
       "    <tr>\n",
       "      <th>356</th>\n",
       "      <td>2019-12-29</td>\n",
       "      <td>2.4</td>\n",
       "      <td>2019</td>\n",
       "      <td>2019-12</td>\n",
       "      <td>12</td>\n",
       "      <td>29</td>\n",
       "    </tr>\n",
       "    <tr>\n",
       "      <th>357</th>\n",
       "      <td>2019-12-30</td>\n",
       "      <td>2.4</td>\n",
       "      <td>2019</td>\n",
       "      <td>2019-12</td>\n",
       "      <td>12</td>\n",
       "      <td>30</td>\n",
       "    </tr>\n",
       "    <tr>\n",
       "      <th>358</th>\n",
       "      <td>2019-12-31</td>\n",
       "      <td>2.5</td>\n",
       "      <td>2019</td>\n",
       "      <td>2019-12</td>\n",
       "      <td>12</td>\n",
       "      <td>31</td>\n",
       "    </tr>\n",
       "  </tbody>\n",
       "</table>\n",
       "<p>359 rows × 6 columns</p>\n",
       "</div>"
      ],
      "text/plain": [
       "         Dates  Usage  year    month  monthz  day\n",
       "0   2019-02-01    2.7  2019  2019-02       2    1\n",
       "1   2019-03-01    2.4  2019  2019-03       3    1\n",
       "2   2019-04-01    2.4  2019  2019-04       4    1\n",
       "3   2019-05-01    2.7  2019  2019-05       5    1\n",
       "4   2019-06-01    2.7  2019  2019-06       6    1\n",
       "..         ...    ...   ...      ...     ...  ...\n",
       "354 2019-12-27    2.6  2019  2019-12      12   27\n",
       "355 2019-12-28    2.5  2019  2019-12      12   28\n",
       "356 2019-12-29    2.4  2019  2019-12      12   29\n",
       "357 2019-12-30    2.4  2019  2019-12      12   30\n",
       "358 2019-12-31    2.5  2019  2019-12      12   31\n",
       "\n",
       "[359 rows x 6 columns]"
      ]
     },
     "execution_count": 9,
     "metadata": {},
     "output_type": "execute_result"
    }
   ],
   "source": [
    "# electricity usage in 2019\n",
    "manipur_2019 = manipur_usage_index[manipur_usage_index['year'] == 2019]\n",
    "manipur_2019"
   ]
  },
  {
   "cell_type": "code",
   "execution_count": 10,
   "id": "772617c8",
   "metadata": {
    "scrolled": true
   },
   "outputs": [
    {
     "data": {
      "text/plain": [
       "Text(0, 0.5, 'Electricity Usage')"
      ]
     },
     "execution_count": 10,
     "metadata": {},
     "output_type": "execute_result"
    },
    {
     "data": {
      "image/png": "[encoded data removed]",
      "text/plain": [
       "<Figure size 432x288 with 1 Axes>"
      ]
     },
     "metadata": {
      "needs_background": "light"
     },
     "output_type": "display_data"
    }
   ],
   "source": [
    "# plot of electricity usage in 2019\n",
    "manipur_2019.groupby('month').sum()[['Usage']].plot()\n",
    "plt.title('Electricity Usage in Manipur in 2019')\n",
    "plt.xlabel('Month')\n",
    "plt.ylabel('Electricity Usage')"
   ]
  },
  {
   "cell_type": "code",
   "execution_count": 11,
   "id": "72c7303e",
   "metadata": {},
   "outputs": [
    {
     "data": {
      "text/plain": [
       "Text(0, 0.5, 'Electricity Usage')"
      ]
     },
     "execution_count": 11,
     "metadata": {},
     "output_type": "execute_result"
    },
    {
     "data": {
      "image/png": "[encoded data removed]",
      "text/plain": [
       "<Figure size 432x288 with 1 Axes>"
      ]
     },
     "metadata": {
      "needs_background": "light"
     },
     "output_type": "display_data"
    }
   ],
   "source": [
    "#electricity usage in 2020\n",
    "manipur_2020 = manipur_usage_index[manipur_usage_index['year'] == 2020]\n",
    "manipur_2020.groupby('month').sum()[['Usage']].plot()\n",
    "plt.title('Electricity Usage in Manipur in 2020')\n",
    "plt.xlabel('Month')\n",
    "plt.ylabel('Electricity Usage')"
   ]
  },
  {
   "cell_type": "code",
   "execution_count": 12,
   "id": "51f3d385",
   "metadata": {
    "scrolled": true
   },
   "outputs": [
    {
     "data": {
      "text/plain": [
       "Text(0, 0.5, 'Electricity Usage')"
      ]
     },
     "execution_count": 12,
     "metadata": {},
     "output_type": "execute_result"
    },
    {
     "data": {
      "image/png": "[encoded data removed]",
      "text/plain": [
       "<Figure size 432x288 with 1 Axes>"
      ]
     },
     "metadata": {
      "needs_background": "light"
     },
     "output_type": "display_data"
    }
   ],
   "source": [
    "# plot of electricity in 2019 and 2020 compiled\n",
    "manipur_usage_index.groupby('month').sum()[['Usage']].plot()\n",
    "plt.title('Electricity Usage in Manipur in 2019 & 2020')\n",
    "plt.xlabel('Month')\n",
    "plt.ylabel('Electricity Usage')"
   ]
  },
  {
   "cell_type": "markdown",
   "id": "9e917e52",
   "metadata": {},
   "source": [
    "From the plot above, we could see that Manipur's electricity usage experienced a significant increase in February and July 2019. However, Manipur's electricity usage dropped in May 2020."
   ]
  },
  {
   "cell_type": "markdown",
   "id": "3d27032c",
   "metadata": {},
   "source": [
    "### Manipur's Monthly Electricity Usage Report"
   ]
  },
  {
   "cell_type": "markdown",
   "id": "33d20cbb",
   "metadata": {},
   "source": [
    "I am going to see the lowest Manipur's electricity usage which is on May 2020."
   ]
  },
  {
   "cell_type": "code",
   "execution_count": 13,
   "id": "56559fb4",
   "metadata": {},
   "outputs": [
    {
     "data": {
      "text/html": [
       "<div>\n",
       "<style scoped>\n",
       "    .dataframe tbody tr th:only-of-type {\n",
       "        vertical-align: middle;\n",
       "    }\n",
       "\n",
       "    .dataframe tbody tr th {\n",
       "        vertical-align: top;\n",
       "    }\n",
       "\n",
       "    .dataframe thead th {\n",
       "        text-align: right;\n",
       "    }\n",
       "</style>\n",
       "<table border=\"1\" class=\"dataframe\">\n",
       "  <thead>\n",
       "    <tr style=\"text-align: right;\">\n",
       "      <th></th>\n",
       "      <th>Dates</th>\n",
       "      <th>Usage</th>\n",
       "      <th>year</th>\n",
       "      <th>month</th>\n",
       "      <th>monthz</th>\n",
       "      <th>day</th>\n",
       "    </tr>\n",
       "  </thead>\n",
       "  <tbody>\n",
       "    <tr>\n",
       "      <th>363</th>\n",
       "      <td>2020-05-01</td>\n",
       "      <td>2.6</td>\n",
       "      <td>2020</td>\n",
       "      <td>2020-05</td>\n",
       "      <td>5</td>\n",
       "      <td>1</td>\n",
       "    </tr>\n",
       "    <tr>\n",
       "      <th>387</th>\n",
       "      <td>2020-05-02</td>\n",
       "      <td>2.5</td>\n",
       "      <td>2020</td>\n",
       "      <td>2020-05</td>\n",
       "      <td>5</td>\n",
       "      <td>2</td>\n",
       "    </tr>\n",
       "    <tr>\n",
       "      <th>409</th>\n",
       "      <td>2020-05-03</td>\n",
       "      <td>2.7</td>\n",
       "      <td>2020</td>\n",
       "      <td>2020-05</td>\n",
       "      <td>5</td>\n",
       "      <td>3</td>\n",
       "    </tr>\n",
       "    <tr>\n",
       "      <th>433</th>\n",
       "      <td>2020-05-04</td>\n",
       "      <td>2.5</td>\n",
       "      <td>2020</td>\n",
       "      <td>2020-05</td>\n",
       "      <td>5</td>\n",
       "      <td>4</td>\n",
       "    </tr>\n",
       "    <tr>\n",
       "      <th>456</th>\n",
       "      <td>2020-05-05</td>\n",
       "      <td>2.4</td>\n",
       "      <td>2020</td>\n",
       "      <td>2020-05</td>\n",
       "      <td>5</td>\n",
       "      <td>5</td>\n",
       "    </tr>\n",
       "  </tbody>\n",
       "</table>\n",
       "</div>"
      ],
      "text/plain": [
       "         Dates  Usage  year    month  monthz  day\n",
       "363 2020-05-01    2.6  2020  2020-05       5    1\n",
       "387 2020-05-02    2.5  2020  2020-05       5    2\n",
       "409 2020-05-03    2.7  2020  2020-05       5    3\n",
       "433 2020-05-04    2.5  2020  2020-05       5    4\n",
       "456 2020-05-05    2.4  2020  2020-05       5    5"
      ]
     },
     "execution_count": 13,
     "metadata": {},
     "output_type": "execute_result"
    }
   ],
   "source": [
    "#monthly electricity report on May 2020\n",
    "manipur_may = manipur_2020 [manipur_2020.monthz == 5]\n",
    "manipur_may.head()"
   ]
  },
  {
   "cell_type": "code",
   "execution_count": 14,
   "id": "9ee968cd",
   "metadata": {},
   "outputs": [
    {
     "data": {
      "text/html": [
       "<div>\n",
       "<style scoped>\n",
       "    .dataframe tbody tr th:only-of-type {\n",
       "        vertical-align: middle;\n",
       "    }\n",
       "\n",
       "    .dataframe tbody tr th {\n",
       "        vertical-align: top;\n",
       "    }\n",
       "\n",
       "    .dataframe thead th {\n",
       "        text-align: right;\n",
       "    }\n",
       "</style>\n",
       "<table border=\"1\" class=\"dataframe\">\n",
       "  <thead>\n",
       "    <tr style=\"text-align: right;\">\n",
       "      <th></th>\n",
       "      <th>Electricity Usage</th>\n",
       "    </tr>\n",
       "    <tr>\n",
       "      <th>Day</th>\n",
       "      <th></th>\n",
       "    </tr>\n",
       "  </thead>\n",
       "  <tbody>\n",
       "    <tr>\n",
       "      <th>1</th>\n",
       "      <td>2.6</td>\n",
       "    </tr>\n",
       "    <tr>\n",
       "      <th>2</th>\n",
       "      <td>2.5</td>\n",
       "    </tr>\n",
       "    <tr>\n",
       "      <th>3</th>\n",
       "      <td>2.7</td>\n",
       "    </tr>\n",
       "    <tr>\n",
       "      <th>4</th>\n",
       "      <td>2.5</td>\n",
       "    </tr>\n",
       "    <tr>\n",
       "      <th>5</th>\n",
       "      <td>2.4</td>\n",
       "    </tr>\n",
       "  </tbody>\n",
       "</table>\n",
       "</div>"
      ],
      "text/plain": [
       "     Electricity Usage\n",
       "Day                   \n",
       "1                  2.6\n",
       "2                  2.5\n",
       "3                  2.7\n",
       "4                  2.5\n",
       "5                  2.4"
      ]
     },
     "execution_count": 14,
     "metadata": {},
     "output_type": "execute_result"
    }
   ],
   "source": [
    "x = manipur_may.day\n",
    "y = manipur_may.Usage\n",
    "\n",
    "manipur_usage_may = pd.DataFrame(list(zip(x,y)),\n",
    "                                columns = ['Day', 'Electricity Usage'])\n",
    "\n",
    "manipur_usage_may = manipur_usage_may.set_index('Day')\n",
    "manipur_usage_may.head()"
   ]
  },
  {
   "cell_type": "code",
   "execution_count": 16,
   "id": "84f4debf",
   "metadata": {},
   "outputs": [
    {
     "data": {
      "text/plain": [
       "Text(0, 0.5, 'Electricity Usage')"
      ]
     },
     "execution_count": 16,
     "metadata": {},
     "output_type": "execute_result"
    },
    {
     "data": {
      "image/png": "[encoded data removed]",
      "text/plain": [
       "<Figure size 432x288 with 1 Axes>"
      ]
     },
     "metadata": {
      "needs_background": "light"
     },
     "output_type": "display_data"
    }
   ],
   "source": [
    "manipur_usage_may.sort_values('Day').plot()\n",
    "plt.title('Electricity Usage in Manipur on May 2020')\n",
    "plt.xlabel('Day')\n",
    "plt.ylabel('Electricity Usage')"
   ]
  },
  {
   "cell_type": "markdown",
   "id": "9f58ca1e",
   "metadata": {},
   "source": [
    "I'm going to compare Manipur's electricity usage on May 2020 and December 2019 which is the highest amount of Manipur's electricity usage."
   ]
  },
  {
   "cell_type": "code",
   "execution_count": 17,
   "id": "97878a17",
   "metadata": {
    "scrolled": true
   },
   "outputs": [
    {
     "data": {
      "text/html": [
       "<div>\n",
       "<style scoped>\n",
       "    .dataframe tbody tr th:only-of-type {\n",
       "        vertical-align: middle;\n",
       "    }\n",
       "\n",
       "    .dataframe tbody tr th {\n",
       "        vertical-align: top;\n",
       "    }\n",
       "\n",
       "    .dataframe thead th {\n",
       "        text-align: right;\n",
       "    }\n",
       "</style>\n",
       "<table border=\"1\" class=\"dataframe\">\n",
       "  <thead>\n",
       "    <tr style=\"text-align: right;\">\n",
       "      <th></th>\n",
       "      <th>Dates</th>\n",
       "      <th>Usage</th>\n",
       "      <th>year</th>\n",
       "      <th>month</th>\n",
       "      <th>monthz</th>\n",
       "      <th>day</th>\n",
       "    </tr>\n",
       "  </thead>\n",
       "  <tbody>\n",
       "    <tr>\n",
       "      <th>10</th>\n",
       "      <td>2019-12-01</td>\n",
       "      <td>2.5</td>\n",
       "      <td>2019</td>\n",
       "      <td>2019-12</td>\n",
       "      <td>12</td>\n",
       "      <td>1</td>\n",
       "    </tr>\n",
       "    <tr>\n",
       "      <th>40</th>\n",
       "      <td>2019-12-02</td>\n",
       "      <td>2.5</td>\n",
       "      <td>2019</td>\n",
       "      <td>2019-12</td>\n",
       "      <td>12</td>\n",
       "      <td>2</td>\n",
       "    </tr>\n",
       "    <tr>\n",
       "      <th>67</th>\n",
       "      <td>2019-12-03</td>\n",
       "      <td>2.7</td>\n",
       "      <td>2019</td>\n",
       "      <td>2019-12</td>\n",
       "      <td>12</td>\n",
       "      <td>3</td>\n",
       "    </tr>\n",
       "    <tr>\n",
       "      <th>97</th>\n",
       "      <td>2019-12-04</td>\n",
       "      <td>2.4</td>\n",
       "      <td>2019</td>\n",
       "      <td>2019-12</td>\n",
       "      <td>12</td>\n",
       "      <td>4</td>\n",
       "    </tr>\n",
       "    <tr>\n",
       "      <th>126</th>\n",
       "      <td>2019-12-05</td>\n",
       "      <td>2.6</td>\n",
       "      <td>2019</td>\n",
       "      <td>2019-12</td>\n",
       "      <td>12</td>\n",
       "      <td>5</td>\n",
       "    </tr>\n",
       "  </tbody>\n",
       "</table>\n",
       "</div>"
      ],
      "text/plain": [
       "         Dates  Usage  year    month  monthz  day\n",
       "10  2019-12-01    2.5  2019  2019-12      12    1\n",
       "40  2019-12-02    2.5  2019  2019-12      12    2\n",
       "67  2019-12-03    2.7  2019  2019-12      12    3\n",
       "97  2019-12-04    2.4  2019  2019-12      12    4\n",
       "126 2019-12-05    2.6  2019  2019-12      12    5"
      ]
     },
     "execution_count": 17,
     "metadata": {},
     "output_type": "execute_result"
    }
   ],
   "source": [
    "#monthly electricity report on Dec 2019\n",
    "manipur_dec = manipur_2019 [manipur_2019.monthz == 12]\n",
    "manipur_dec.head()"
   ]
  },
  {
   "cell_type": "code",
   "execution_count": 18,
   "id": "7d9b02d3",
   "metadata": {
    "scrolled": true
   },
   "outputs": [
    {
     "data": {
      "text/html": [
       "<div>\n",
       "<style scoped>\n",
       "    .dataframe tbody tr th:only-of-type {\n",
       "        vertical-align: middle;\n",
       "    }\n",
       "\n",
       "    .dataframe tbody tr th {\n",
       "        vertical-align: top;\n",
       "    }\n",
       "\n",
       "    .dataframe thead th {\n",
       "        text-align: right;\n",
       "    }\n",
       "</style>\n",
       "<table border=\"1\" class=\"dataframe\">\n",
       "  <thead>\n",
       "    <tr style=\"text-align: right;\">\n",
       "      <th></th>\n",
       "      <th>Electricity Usage</th>\n",
       "    </tr>\n",
       "    <tr>\n",
       "      <th>Day</th>\n",
       "      <th></th>\n",
       "    </tr>\n",
       "  </thead>\n",
       "  <tbody>\n",
       "    <tr>\n",
       "      <th>1</th>\n",
       "      <td>2.5</td>\n",
       "    </tr>\n",
       "    <tr>\n",
       "      <th>2</th>\n",
       "      <td>2.5</td>\n",
       "    </tr>\n",
       "    <tr>\n",
       "      <th>3</th>\n",
       "      <td>2.7</td>\n",
       "    </tr>\n",
       "    <tr>\n",
       "      <th>4</th>\n",
       "      <td>2.4</td>\n",
       "    </tr>\n",
       "    <tr>\n",
       "      <th>5</th>\n",
       "      <td>2.6</td>\n",
       "    </tr>\n",
       "  </tbody>\n",
       "</table>\n",
       "</div>"
      ],
      "text/plain": [
       "     Electricity Usage\n",
       "Day                   \n",
       "1                  2.5\n",
       "2                  2.5\n",
       "3                  2.7\n",
       "4                  2.4\n",
       "5                  2.6"
      ]
     },
     "execution_count": 18,
     "metadata": {},
     "output_type": "execute_result"
    }
   ],
   "source": [
    "x = manipur_dec.day\n",
    "y = manipur_dec.Usage\n",
    "\n",
    "manipur_usage_dec = pd.DataFrame(list(zip(x,y)),\n",
    "                                columns = ['Day', 'Electricity Usage'])\n",
    "\n",
    "manipur_usage_dec = manipur_usage_dec.set_index('Day')\n",
    "manipur_usage_dec.head()"
   ]
  },
  {
   "cell_type": "code",
   "execution_count": 19,
   "id": "90e80570",
   "metadata": {},
   "outputs": [
    {
     "data": {
      "text/plain": [
       "Text(0, 0.5, 'Electricity Usage')"
      ]
     },
     "execution_count": 19,
     "metadata": {},
     "output_type": "execute_result"
    },
    {
     "data": {
      "image/png": "[encoded data removed]",
      "text/plain": [
       "<Figure size 432x288 with 1 Axes>"
      ]
     },
     "metadata": {
      "needs_background": "light"
     },
     "output_type": "display_data"
    }
   ],
   "source": [
    "manipur_usage_dec.sort_values('Day').plot()\n",
    "plt.title('Electricity Usage in Manipur on Dec 2019')\n",
    "plt.xlabel('Day')\n",
    "plt.ylabel('Electricity Usage')"
   ]
  },
  {
   "cell_type": "markdown",
   "id": "6ce8e4f3",
   "metadata": {},
   "source": [
    "From both plot, we could see that Manipur's electricity usage at the May 2020 tends to decrease while at the end of December 2019 tends to increase."
   ]
  },
  {
   "cell_type": "markdown",
   "id": "11e4805a",
   "metadata": {},
   "source": [
    "## compare the electricity usage with other neighboring cities (NER Region)"
   ]
  },
  {
   "cell_type": "markdown",
   "id": "1f674081",
   "metadata": {},
   "source": [
    "Manipur is included in the NER region, so I am going to filter and only select the NER region."
   ]
  },
  {
   "cell_type": "code",
   "execution_count": 29,
   "id": "52aaa323",
   "metadata": {
    "scrolled": true
   },
   "outputs": [
    {
     "data": {
      "text/html": [
       "<div>\n",
       "<style scoped>\n",
       "    .dataframe tbody tr th:only-of-type {\n",
       "        vertical-align: middle;\n",
       "    }\n",
       "\n",
       "    .dataframe tbody tr th {\n",
       "        vertical-align: top;\n",
       "    }\n",
       "\n",
       "    .dataframe thead th {\n",
       "        text-align: right;\n",
       "    }\n",
       "</style>\n",
       "<table border=\"1\" class=\"dataframe\">\n",
       "  <thead>\n",
       "    <tr style=\"text-align: right;\">\n",
       "      <th></th>\n",
       "      <th>States</th>\n",
       "      <th>Regions</th>\n",
       "      <th>latitude</th>\n",
       "      <th>longitude</th>\n",
       "      <th>Dates</th>\n",
       "      <th>Usage</th>\n",
       "      <th>year</th>\n",
       "      <th>month</th>\n",
       "      <th>monthz</th>\n",
       "      <th>day</th>\n",
       "    </tr>\n",
       "  </thead>\n",
       "  <tbody>\n",
       "    <tr>\n",
       "      <th>26</th>\n",
       "      <td>Arunachal Pradesh</td>\n",
       "      <td>NER</td>\n",
       "      <td>27.100399</td>\n",
       "      <td>93.616601</td>\n",
       "      <td>2019-02-01</td>\n",
       "      <td>2.1</td>\n",
       "      <td>2019</td>\n",
       "      <td>2019-02</td>\n",
       "      <td>2</td>\n",
       "      <td>1</td>\n",
       "    </tr>\n",
       "    <tr>\n",
       "      <th>27</th>\n",
       "      <td>Assam</td>\n",
       "      <td>NER</td>\n",
       "      <td>26.749981</td>\n",
       "      <td>94.216667</td>\n",
       "      <td>2019-02-01</td>\n",
       "      <td>21.7</td>\n",
       "      <td>2019</td>\n",
       "      <td>2019-02</td>\n",
       "      <td>2</td>\n",
       "      <td>1</td>\n",
       "    </tr>\n",
       "    <tr>\n",
       "      <th>28</th>\n",
       "      <td>Manipur</td>\n",
       "      <td>NER</td>\n",
       "      <td>24.799971</td>\n",
       "      <td>93.950017</td>\n",
       "      <td>2019-02-01</td>\n",
       "      <td>2.7</td>\n",
       "      <td>2019</td>\n",
       "      <td>2019-02</td>\n",
       "      <td>2</td>\n",
       "      <td>1</td>\n",
       "    </tr>\n",
       "    <tr>\n",
       "      <th>29</th>\n",
       "      <td>Meghalaya</td>\n",
       "      <td>NER</td>\n",
       "      <td>25.570492</td>\n",
       "      <td>91.880014</td>\n",
       "      <td>2019-02-01</td>\n",
       "      <td>6.1</td>\n",
       "      <td>2019</td>\n",
       "      <td>2019-02</td>\n",
       "      <td>2</td>\n",
       "      <td>1</td>\n",
       "    </tr>\n",
       "    <tr>\n",
       "      <th>30</th>\n",
       "      <td>Mizoram</td>\n",
       "      <td>NER</td>\n",
       "      <td>23.710399</td>\n",
       "      <td>92.720015</td>\n",
       "      <td>2019-02-01</td>\n",
       "      <td>1.9</td>\n",
       "      <td>2019</td>\n",
       "      <td>2019-02</td>\n",
       "      <td>2</td>\n",
       "      <td>1</td>\n",
       "    </tr>\n",
       "    <tr>\n",
       "      <th>...</th>\n",
       "      <td>...</td>\n",
       "      <td>...</td>\n",
       "      <td>...</td>\n",
       "      <td>...</td>\n",
       "      <td>...</td>\n",
       "      <td>...</td>\n",
       "      <td>...</td>\n",
       "      <td>...</td>\n",
       "      <td>...</td>\n",
       "      <td>...</td>\n",
       "    </tr>\n",
       "    <tr>\n",
       "      <th>16594</th>\n",
       "      <td>Manipur</td>\n",
       "      <td>NER</td>\n",
       "      <td>24.799971</td>\n",
       "      <td>93.950017</td>\n",
       "      <td>2020-05-12</td>\n",
       "      <td>2.5</td>\n",
       "      <td>2020</td>\n",
       "      <td>2020-05</td>\n",
       "      <td>5</td>\n",
       "      <td>12</td>\n",
       "    </tr>\n",
       "    <tr>\n",
       "      <th>16595</th>\n",
       "      <td>Meghalaya</td>\n",
       "      <td>NER</td>\n",
       "      <td>25.570492</td>\n",
       "      <td>91.880014</td>\n",
       "      <td>2020-05-12</td>\n",
       "      <td>5.8</td>\n",
       "      <td>2020</td>\n",
       "      <td>2020-05</td>\n",
       "      <td>5</td>\n",
       "      <td>12</td>\n",
       "    </tr>\n",
       "    <tr>\n",
       "      <th>16596</th>\n",
       "      <td>Mizoram</td>\n",
       "      <td>NER</td>\n",
       "      <td>23.710399</td>\n",
       "      <td>92.720015</td>\n",
       "      <td>2020-05-12</td>\n",
       "      <td>1.6</td>\n",
       "      <td>2020</td>\n",
       "      <td>2020-05</td>\n",
       "      <td>5</td>\n",
       "      <td>12</td>\n",
       "    </tr>\n",
       "    <tr>\n",
       "      <th>16597</th>\n",
       "      <td>Nagaland</td>\n",
       "      <td>NER</td>\n",
       "      <td>25.666998</td>\n",
       "      <td>94.116570</td>\n",
       "      <td>2020-05-12</td>\n",
       "      <td>2.1</td>\n",
       "      <td>2020</td>\n",
       "      <td>2020-05</td>\n",
       "      <td>5</td>\n",
       "      <td>12</td>\n",
       "    </tr>\n",
       "    <tr>\n",
       "      <th>16598</th>\n",
       "      <td>Tripura</td>\n",
       "      <td>NER</td>\n",
       "      <td>23.835404</td>\n",
       "      <td>91.279999</td>\n",
       "      <td>2020-05-12</td>\n",
       "      <td>3.3</td>\n",
       "      <td>2020</td>\n",
       "      <td>2020-05</td>\n",
       "      <td>5</td>\n",
       "      <td>12</td>\n",
       "    </tr>\n",
       "  </tbody>\n",
       "</table>\n",
       "<p>3521 rows × 10 columns</p>\n",
       "</div>"
      ],
      "text/plain": [
       "                  States Regions   latitude  longitude      Dates  Usage  \\\n",
       "26     Arunachal Pradesh     NER  27.100399  93.616601 2019-02-01    2.1   \n",
       "27                 Assam     NER  26.749981  94.216667 2019-02-01   21.7   \n",
       "28               Manipur     NER  24.799971  93.950017 2019-02-01    2.7   \n",
       "29             Meghalaya     NER  25.570492  91.880014 2019-02-01    6.1   \n",
       "30               Mizoram     NER  23.710399  92.720015 2019-02-01    1.9   \n",
       "...                  ...     ...        ...        ...        ...    ...   \n",
       "16594            Manipur     NER  24.799971  93.950017 2020-05-12    2.5   \n",
       "16595          Meghalaya     NER  25.570492  91.880014 2020-05-12    5.8   \n",
       "16596            Mizoram     NER  23.710399  92.720015 2020-05-12    1.6   \n",
       "16597           Nagaland     NER  25.666998  94.116570 2020-05-12    2.1   \n",
       "16598            Tripura     NER  23.835404  91.279999 2020-05-12    3.3   \n",
       "\n",
       "       year    month  monthz  day  \n",
       "26     2019  2019-02       2    1  \n",
       "27     2019  2019-02       2    1  \n",
       "28     2019  2019-02       2    1  \n",
       "29     2019  2019-02       2    1  \n",
       "30     2019  2019-02       2    1  \n",
       "...     ...      ...     ...  ...  \n",
       "16594  2020  2020-05       5   12  \n",
       "16595  2020  2020-05       5   12  \n",
       "16596  2020  2020-05       5   12  \n",
       "16597  2020  2020-05       5   12  \n",
       "16598  2020  2020-05       5   12  \n",
       "\n",
       "[3521 rows x 10 columns]"
      ]
     },
     "execution_count": 29,
     "metadata": {},
     "output_type": "execute_result"
    }
   ],
   "source": [
    "city_ner = city [city.Regions == 'NER']\n",
    "city_ner"
   ]
  },
  {
   "cell_type": "code",
   "execution_count": 21,
   "id": "c6d8a553",
   "metadata": {
    "scrolled": false
   },
   "outputs": [
    {
     "data": {
      "text/plain": [
       "array(['Arunachal Pradesh', 'Assam', 'Manipur', 'Meghalaya', 'Mizoram',\n",
       "       'Nagaland', 'Tripura'], dtype=object)"
      ]
     },
     "execution_count": 21,
     "metadata": {},
     "output_type": "execute_result"
    }
   ],
   "source": [
    "#check what are the neighboring states of Manipur\n",
    "city_ner.States.unique()"
   ]
  },
  {
   "cell_type": "markdown",
   "id": "2d2f3d7b",
   "metadata": {},
   "source": [
    "Manipur neighboring country is Arunachal Pradesh, Assam, Meghalaya, Mizoram, Nagaland, Tripura. But I am going to analyze only Mizoram and Meghalaya."
   ]
  },
  {
   "cell_type": "code",
   "execution_count": 30,
   "id": "91465d1c",
   "metadata": {},
   "outputs": [
    {
     "name": "stderr",
     "output_type": "stream",
     "text": [
      "C:\\Users\\ASUS\\AppData\\Local\\Temp\\ipykernel_18224\\3715952928.py:1: UserWarning: Boolean Series key will be reindexed to match DataFrame index.\n",
      "  neighbor = city_ner [(city.States == 'Meghalaya') | (city.States == 'Mizoram') | (city.States == 'Manipur')]\n"
     ]
    },
    {
     "data": {
      "text/html": [
       "<div>\n",
       "<style scoped>\n",
       "    .dataframe tbody tr th:only-of-type {\n",
       "        vertical-align: middle;\n",
       "    }\n",
       "\n",
       "    .dataframe tbody tr th {\n",
       "        vertical-align: top;\n",
       "    }\n",
       "\n",
       "    .dataframe thead th {\n",
       "        text-align: right;\n",
       "    }\n",
       "</style>\n",
       "<table border=\"1\" class=\"dataframe\">\n",
       "  <thead>\n",
       "    <tr style=\"text-align: right;\">\n",
       "      <th></th>\n",
       "      <th>States</th>\n",
       "      <th>Regions</th>\n",
       "      <th>latitude</th>\n",
       "      <th>longitude</th>\n",
       "      <th>Dates</th>\n",
       "      <th>Usage</th>\n",
       "      <th>year</th>\n",
       "      <th>month</th>\n",
       "      <th>monthz</th>\n",
       "      <th>day</th>\n",
       "    </tr>\n",
       "  </thead>\n",
       "  <tbody>\n",
       "    <tr>\n",
       "      <th>28</th>\n",
       "      <td>Manipur</td>\n",
       "      <td>NER</td>\n",
       "      <td>24.799971</td>\n",
       "      <td>93.950017</td>\n",
       "      <td>2019-02-01</td>\n",
       "      <td>2.7</td>\n",
       "      <td>2019</td>\n",
       "      <td>2019-02</td>\n",
       "      <td>2</td>\n",
       "      <td>1</td>\n",
       "    </tr>\n",
       "    <tr>\n",
       "      <th>29</th>\n",
       "      <td>Meghalaya</td>\n",
       "      <td>NER</td>\n",
       "      <td>25.570492</td>\n",
       "      <td>91.880014</td>\n",
       "      <td>2019-02-01</td>\n",
       "      <td>6.1</td>\n",
       "      <td>2019</td>\n",
       "      <td>2019-02</td>\n",
       "      <td>2</td>\n",
       "      <td>1</td>\n",
       "    </tr>\n",
       "    <tr>\n",
       "      <th>30</th>\n",
       "      <td>Mizoram</td>\n",
       "      <td>NER</td>\n",
       "      <td>23.710399</td>\n",
       "      <td>92.720015</td>\n",
       "      <td>2019-02-01</td>\n",
       "      <td>1.9</td>\n",
       "      <td>2019</td>\n",
       "      <td>2019-02</td>\n",
       "      <td>2</td>\n",
       "      <td>1</td>\n",
       "    </tr>\n",
       "    <tr>\n",
       "      <th>61</th>\n",
       "      <td>Manipur</td>\n",
       "      <td>NER</td>\n",
       "      <td>24.799971</td>\n",
       "      <td>93.950017</td>\n",
       "      <td>2019-03-01</td>\n",
       "      <td>2.4</td>\n",
       "      <td>2019</td>\n",
       "      <td>2019-03</td>\n",
       "      <td>3</td>\n",
       "      <td>1</td>\n",
       "    </tr>\n",
       "    <tr>\n",
       "      <th>62</th>\n",
       "      <td>Meghalaya</td>\n",
       "      <td>NER</td>\n",
       "      <td>25.570492</td>\n",
       "      <td>91.880014</td>\n",
       "      <td>2019-03-01</td>\n",
       "      <td>6.5</td>\n",
       "      <td>2019</td>\n",
       "      <td>2019-03</td>\n",
       "      <td>3</td>\n",
       "      <td>1</td>\n",
       "    </tr>\n",
       "    <tr>\n",
       "      <th>...</th>\n",
       "      <td>...</td>\n",
       "      <td>...</td>\n",
       "      <td>...</td>\n",
       "      <td>...</td>\n",
       "      <td>...</td>\n",
       "      <td>...</td>\n",
       "      <td>...</td>\n",
       "      <td>...</td>\n",
       "      <td>...</td>\n",
       "      <td>...</td>\n",
       "    </tr>\n",
       "    <tr>\n",
       "      <th>16562</th>\n",
       "      <td>Meghalaya</td>\n",
       "      <td>NER</td>\n",
       "      <td>25.570492</td>\n",
       "      <td>91.880014</td>\n",
       "      <td>2020-04-12</td>\n",
       "      <td>5.7</td>\n",
       "      <td>2020</td>\n",
       "      <td>2020-04</td>\n",
       "      <td>4</td>\n",
       "      <td>12</td>\n",
       "    </tr>\n",
       "    <tr>\n",
       "      <th>16563</th>\n",
       "      <td>Mizoram</td>\n",
       "      <td>NER</td>\n",
       "      <td>23.710399</td>\n",
       "      <td>92.720015</td>\n",
       "      <td>2020-04-12</td>\n",
       "      <td>1.6</td>\n",
       "      <td>2020</td>\n",
       "      <td>2020-04</td>\n",
       "      <td>4</td>\n",
       "      <td>12</td>\n",
       "    </tr>\n",
       "    <tr>\n",
       "      <th>16594</th>\n",
       "      <td>Manipur</td>\n",
       "      <td>NER</td>\n",
       "      <td>24.799971</td>\n",
       "      <td>93.950017</td>\n",
       "      <td>2020-05-12</td>\n",
       "      <td>2.5</td>\n",
       "      <td>2020</td>\n",
       "      <td>2020-05</td>\n",
       "      <td>5</td>\n",
       "      <td>12</td>\n",
       "    </tr>\n",
       "    <tr>\n",
       "      <th>16595</th>\n",
       "      <td>Meghalaya</td>\n",
       "      <td>NER</td>\n",
       "      <td>25.570492</td>\n",
       "      <td>91.880014</td>\n",
       "      <td>2020-05-12</td>\n",
       "      <td>5.8</td>\n",
       "      <td>2020</td>\n",
       "      <td>2020-05</td>\n",
       "      <td>5</td>\n",
       "      <td>12</td>\n",
       "    </tr>\n",
       "    <tr>\n",
       "      <th>16596</th>\n",
       "      <td>Mizoram</td>\n",
       "      <td>NER</td>\n",
       "      <td>23.710399</td>\n",
       "      <td>92.720015</td>\n",
       "      <td>2020-05-12</td>\n",
       "      <td>1.6</td>\n",
       "      <td>2020</td>\n",
       "      <td>2020-05</td>\n",
       "      <td>5</td>\n",
       "      <td>12</td>\n",
       "    </tr>\n",
       "  </tbody>\n",
       "</table>\n",
       "<p>1509 rows × 10 columns</p>\n",
       "</div>"
      ],
      "text/plain": [
       "          States Regions   latitude  longitude      Dates  Usage  year  \\\n",
       "28       Manipur     NER  24.799971  93.950017 2019-02-01    2.7  2019   \n",
       "29     Meghalaya     NER  25.570492  91.880014 2019-02-01    6.1  2019   \n",
       "30       Mizoram     NER  23.710399  92.720015 2019-02-01    1.9  2019   \n",
       "61       Manipur     NER  24.799971  93.950017 2019-03-01    2.4  2019   \n",
       "62     Meghalaya     NER  25.570492  91.880014 2019-03-01    6.5  2019   \n",
       "...          ...     ...        ...        ...        ...    ...   ...   \n",
       "16562  Meghalaya     NER  25.570492  91.880014 2020-04-12    5.7  2020   \n",
       "16563    Mizoram     NER  23.710399  92.720015 2020-04-12    1.6  2020   \n",
       "16594    Manipur     NER  24.799971  93.950017 2020-05-12    2.5  2020   \n",
       "16595  Meghalaya     NER  25.570492  91.880014 2020-05-12    5.8  2020   \n",
       "16596    Mizoram     NER  23.710399  92.720015 2020-05-12    1.6  2020   \n",
       "\n",
       "         month  monthz  day  \n",
       "28     2019-02       2    1  \n",
       "29     2019-02       2    1  \n",
       "30     2019-02       2    1  \n",
       "61     2019-03       3    1  \n",
       "62     2019-03       3    1  \n",
       "...        ...     ...  ...  \n",
       "16562  2020-04       4   12  \n",
       "16563  2020-04       4   12  \n",
       "16594  2020-05       5   12  \n",
       "16595  2020-05       5   12  \n",
       "16596  2020-05       5   12  \n",
       "\n",
       "[1509 rows x 10 columns]"
      ]
     },
     "execution_count": 30,
     "metadata": {},
     "output_type": "execute_result"
    }
   ],
   "source": [
    "neighbor = city_ner [(city.States == 'Meghalaya') | (city.States == 'Mizoram') | (city.States == 'Manipur')]\n",
    "neighbor"
   ]
  },
  {
   "cell_type": "code",
   "execution_count": 22,
   "id": "4782b8e7",
   "metadata": {},
   "outputs": [
    {
     "data": {
      "text/plain": [
       "Text(0, 0.5, 'Electricity Usage')"
      ]
     },
     "execution_count": 22,
     "metadata": {},
     "output_type": "execute_result"
    },
    {
     "data": {
      "image/png": "[encoded data removed]",
      "text/plain": [
       "<Figure size 432x288 with 1 Axes>"
      ]
     },
     "metadata": {
      "needs_background": "light"
     },
     "output_type": "display_data"
    }
   ],
   "source": [
    "neighbor_usage = neighbor.pivot_table(\n",
    "    index = 'month',\n",
    "    columns = 'States',\n",
    "    values = 'Usage',\n",
    "    aggfunc = 'sum')\n",
    "neighbor_usage.plot()\n",
    "plt.title('Electricity Usage in Neighboring States')\n",
    "plt.xlabel('Month')\n",
    "plt.ylabel('Electricity Usage')"
   ]
  },
  {
   "cell_type": "code",
   "execution_count": 23,
   "id": "210aa895",
   "metadata": {
    "scrolled": true
   },
   "outputs": [
    {
     "data": {
      "text/plain": [
       "<AxesSubplot:xlabel='Dates'>"
      ]
     },
     "execution_count": 23,
     "metadata": {},
     "output_type": "execute_result"
    },
    {
     "data": {
      "image/png": "[encoded data removed]",
      "text/plain": [
       "<Figure size 432x288 with 1 Axes>"
      ]
     },
     "metadata": {
      "needs_background": "light"
     },
     "output_type": "display_data"
    }
   ],
   "source": [
    "neighbor_usage_day = neighbor.pivot_table(\n",
    "    index = 'Dates',\n",
    "    columns = 'States',\n",
    "    values = 'Usage',\n",
    "    aggfunc = 'sum')\n",
    "\n",
    "neighbor_usage_day.plot()"
   ]
  },
  {
   "cell_type": "markdown",
   "id": "32790dea",
   "metadata": {},
   "source": [
    "From the 2 plots above, we could see that the electricity usage of Manipur, Meghalaya and Mizoram is pretty similar and they has the same pattern. But, Meghalaya has the highest electricity usage between those two."
   ]
  },
  {
   "cell_type": "markdown",
   "id": "3e48f77b",
   "metadata": {},
   "source": [
    "Now, I am going to compare the electricity usage of all NER countries."
   ]
  },
  {
   "cell_type": "code",
   "execution_count": 31,
   "id": "ca09896b",
   "metadata": {
    "scrolled": true
   },
   "outputs": [
    {
     "data": {
      "text/plain": [
       "Text(0.5, 1.0, 'on 01-05-2020 until 03-05-2020')"
      ]
     },
     "execution_count": 31,
     "metadata": {},
     "output_type": "execute_result"
    },
    {
     "data": {
      "image/png": "[encoded data removed]",
      "text/plain": [
       "<Figure size 432x288 with 1 Axes>"
      ]
     },
     "metadata": {
      "needs_background": "light"
     },
     "output_type": "display_data"
    }
   ],
   "source": [
    "neighbor_2020 = city_ner[(city_ner.year == 2020) & \n",
    "                         (city_ner.monthz == 5) &\n",
    "                         ((city_ner.day == 1) | \n",
    "                          (city_ner.day == 2) | \n",
    "                          (city_ner.day == 3))]\n",
    "\n",
    "neighbor_usage_2020 = neighbor_2020.pivot_table(\n",
    "    index = 'Dates',\n",
    "    columns = 'States',\n",
    "    values = 'Usage',\n",
    "    aggfunc = 'sum')\n",
    "neighbor_usage_2020.plot(kind = 'bar', rot = 60)\n",
    "\n",
    "plt.suptitle('Electricity Usage Comparison between NER Contries', \n",
    "             fontsize=12, fontweight='bold')\n",
    "plt.title('on 01-05-2020 until 03-05-2020')"
   ]
  },
  {
   "cell_type": "markdown",
   "id": "3290519e",
   "metadata": {},
   "source": [
    "From the plot above, we could see that Assam has the highest electricity usage among all NER countries."
   ]
  },
  {
   "cell_type": "code",
   "execution_count": 32,
   "id": "8d68084e",
   "metadata": {},
   "outputs": [
    {
     "data": {
      "text/plain": [
       "<AxesSubplot:xlabel='Dates'>"
      ]
     },
     "execution_count": 32,
     "metadata": {},
     "output_type": "execute_result"
    },
    {
     "data": {
      "image/png": "[encoded data removed]",
      "text/plain": [
       "<Figure size 432x288 with 1 Axes>"
      ]
     },
     "metadata": {
      "needs_background": "light"
     },
     "output_type": "display_data"
    }
   ],
   "source": [
    "ner_usage_day = city_ner.pivot_table(\n",
    "    index = 'Dates',\n",
    "    columns = 'States',\n",
    "    values = 'Usage',\n",
    "    aggfunc = 'sum')\n",
    "\n",
    "ner_usage_day.plot()"
   ]
  },
  {
   "cell_type": "markdown",
   "id": "0eb07ae7",
   "metadata": {},
   "source": [
    "From the plot above, we could see that all of the NER countries has the same pattern of electricity usage."
   ]
  },
  {
   "cell_type": "code",
   "execution_count": 25,
   "id": "75368ede",
   "metadata": {},
   "outputs": [],
   "source": [
    "neighbor_usage_day = neighbor.pivot_table(\n",
    "    index = 'Dates',\n",
    "    columns = 'States',\n",
    "    values = 'Usage',\n",
    "    aggfunc = 'sum')"
   ]
  },
  {
   "cell_type": "code",
   "execution_count": 26,
   "id": "a9e8eb29",
   "metadata": {
    "scrolled": true
   },
   "outputs": [
    {
     "data": {
      "text/plain": [
       "Text(0.5, 1.0, 'with Regression Line')"
      ]
     },
     "execution_count": 26,
     "metadata": {},
     "output_type": "execute_result"
    },
    {
     "data": {
      "image/png": "[encoded data removed]",
      "text/plain": [
       "<Figure size 720x432 with 1 Axes>"
      ]
     },
     "metadata": {
      "needs_background": "light"
     },
     "output_type": "display_data"
    }
   ],
   "source": [
    "#correlation between electricity usage of those neigboring states\n",
    "plt.figure(figsize=(10,6))\n",
    "plt.scatter(neighbor_usage_day ['Manipur'], neighbor_usage_day['Mizoram'])\n",
    "\n",
    "slope, intercept = np.polyfit(neighbor_usage_day ['Manipur'],\n",
    "                             neighbor_usage_day ['Mizoram'], 1)\n",
    "regression_line = np.polyval([slope, intercept], neighbor_usage_day['Manipur'])\n",
    "plt.plot(neighbor_usage_day['Manipur'], \n",
    "         regression_line,\n",
    "         color = 'black', \n",
    "         label = 'Regression Line')\n",
    "\n",
    "plt.xlabel('Electricity Usage of Manipur')\n",
    "plt.ylabel('Electricity Usage of Mizoram')\n",
    "plt.suptitle('Comparison of Electricity Usage of Manipur and Mizoram',\n",
    "            fontsize = 12, fontweight = 'bold')\n",
    "plt.title('with Regression Line')"
   ]
  },
  {
   "cell_type": "code",
   "execution_count": 27,
   "id": "0e61efc5",
   "metadata": {
    "scrolled": true
   },
   "outputs": [
    {
     "data": {
      "text/plain": [
       "Text(0.5, 1.0, 'with Regression Line')"
      ]
     },
     "execution_count": 27,
     "metadata": {},
     "output_type": "execute_result"
    },
    {
     "data": {
      "image/png": "[encoded data removed]",
      "text/plain": [
       "<Figure size 720x432 with 1 Axes>"
      ]
     },
     "metadata": {
      "needs_background": "light"
     },
     "output_type": "display_data"
    }
   ],
   "source": [
    "plt.figure(figsize=(10,6))\n",
    "plt.scatter(neighbor_usage_day ['Manipur'], neighbor_usage_day['Meghalaya'])\n",
    "\n",
    "slope, intercept = np.polyfit(neighbor_usage_day ['Manipur'],\n",
    "                             neighbor_usage_day ['Meghalaya'], 1)\n",
    "regression_line = np.polyval([slope, intercept], neighbor_usage_day['Manipur'])\n",
    "plt.plot(neighbor_usage_day['Manipur'], \n",
    "         regression_line,\n",
    "         color = 'black', \n",
    "         label = 'Regression Line')\n",
    "\n",
    "plt.xlabel('Electricity Usage of Manipur')\n",
    "plt.ylabel('Electricity Usage of Meghalaya')\n",
    "plt.suptitle('Comparison of Electricity Usage of Manipur and Meghalaya',\n",
    "            fontsize = 12, fontweight = 'bold')\n",
    "plt.title('with Regression Line')"
   ]
  },
  {
   "cell_type": "markdown",
   "id": "843fb70f",
   "metadata": {},
   "source": [
    "From the two scatter plot above, we could see that the electricity usage between Manipur and Mizoram, and Manipur and Meghalaya has a positive correlation. This means that when Manipur's electricity usage increased, Mizoram and Meghalaya's electricity usage tends to increase also. We could say that the same thing also happen with other neighboring NER country. "
   ]
  },
  {
   "cell_type": "markdown",
   "id": "547133c6",
   "metadata": {},
   "source": [
    "### Conclusion"
   ]
  },
  {
   "cell_type": "markdown",
   "id": "defe0999",
   "metadata": {},
   "source": [
    "We could conclude that Manipur's electricity usage is highly influenced by other neighboring countries. This is due to the interconnection of electrical grids which allows for the transfer of power between different regions. These interconnections enable cities and regions to balance their electricity supply and demand, especially during peak periods or in the case of emergencies."
   ]
  }
 ],
 "metadata": {
  "kernelspec": {
   "display_name": "Python 3 (ipykernel)",
   "language": "python",
   "name": "python3"
  },
  "language_info": {
   "codemirror_mode": {
    "name": "ipython",
    "version": 3
   },
   "file_extension": ".py",
   "mimetype": "text/x-python",
   "name": "python",
   "nbconvert_exporter": "python",
   "pygments_lexer": "ipython3",
   "version": "3.9.12"
  }
 },
 "nbformat": 4,
 "nbformat_minor": 5
}
